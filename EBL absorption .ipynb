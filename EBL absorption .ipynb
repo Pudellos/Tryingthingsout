{
 "cells": [
  {
   "cell_type": "code",
   "execution_count": 4,
   "metadata": {},
   "outputs": [],
   "source": [
    "from gammapy.spectrum.models import Absorption\n",
    "import astropy.units as u\n",
    "import logging\n",
    "logging.basicConfig(filename='EBLAbsorption.log',level=logging.WARNING,format='%(asctime)s %(message)s', \\\n",
    "                    datefmt='%m/%d/%Y %I:%M:%S %p')\n",
    "class EBLAbsorption:\n",
    "    def __init__(self,model=\"franceschini\"):\n",
    "        \"\"\" \n",
    "        to use this class you need:\n",
    "                from gammapy.spectrum.models import Absorption\n",
    "                import astropy.units as u\n",
    "        parameters:\n",
    "                \"model\" of spectral absorption (\"franceschini\" or \"dominguez\" or \"finke\")\n",
    "                default model is \"franceschini\"\n",
    "        \n",
    "        downloading models to your compurter (Linux):\n",
    "                after downloading and installing gammapy, open terminal window and execute:\n",
    "                            gammapy download tutorials --release 0.12\n",
    "                            cd gammapy-tutorials\n",
    "                            export GAMMAPY_DATA=$PWD/datasets-0.12\n",
    "                run anaconda-navigator and change channel to gammapy-0.12\n",
    "        \"\"\"\n",
    "        self.model=model\n",
    "        self.ebl=Absorption.read_builtin(str(self.model))\n",
    "    \n",
    "    def absorption(self,redshift,energy,unit):\n",
    "        \"\"\" This function calculates absorption of EBL according to model stated in class definition\n",
    "        parameters:\n",
    "                redshift (int or float)\n",
    "                energy (int or float or list or touple)\n",
    "                unit of energy (str: \"keV\" or \"MeV\" or \"GeV\" or \"TeV\")\n",
    "        \n",
    "        output:\n",
    "                numpy.ndarray if energy parameter = list or touple\n",
    "                numpy.float64 if energy parameter = int or float\n",
    "        \n",
    "        \"\"\"\n",
    "        if (type(energy)==int or type(energy)==float)==True:\n",
    "            if unit==\"GeV\":\n",
    "                energy=energy\n",
    "            elif unit==\"keV\":\n",
    "                energy=energy*10**-6\n",
    "            elif unit==\"MeV\":\n",
    "                energy==energy*10**-3\n",
    "            elif unit==\"TeV\":\n",
    "                energy=energy*10**3\n",
    "            if self.ebl.evaluate((energy*u.GeV),redshift)>energy:\n",
    "                logging.warning(\"error: int or float input to EBLAbsorption.absorption() too high or too low. Consequence: output energy higher than input\")\n",
    "        elif (type(energy)==list or type(energy)==tuple)==True:\n",
    "            for i in energy:\n",
    "                if unit==\"GeV\":\n",
    "                    i=i\n",
    "                elif unit==\"keV\":\n",
    "                    i=i*10**-6\n",
    "                elif unit==\"MeV\":\n",
    "                    i==i*10**-3\n",
    "                elif unit==\"TeV\":\n",
    "                    i=i*10**3\n",
    "            if self.ebl.evaluate((min(energy)*u.GeV),redshift)>min(energy):\n",
    "                logging.warning(\"error: minimum energy in list or tuple input to EBLAbsorption.absorption() is too low. Consequence: output energy higher than input\")\n",
    "            if self.ebl.evaluate((max(energy)*u.GeV),redshift)>max(energy):\n",
    "                logging.warning(\"error: maximum energy in list or tuple input to EBLAbsorption.absorption() is too high. Consequence: output energy higher than input\")\n",
    "        return self.ebl.evaluate((energy*u.GeV),redshift)"
   ]
  },
  {
   "cell_type": "code",
   "execution_count": 5,
   "metadata": {},
   "outputs": [
    {
     "data": {
      "text/plain": [
       "numpy.float64"
      ]
     },
     "execution_count": 5,
     "metadata": {},
     "output_type": "execute_result"
    }
   ],
   "source": [
    "# a=EBLAbsorption()\n",
    "# type(a.absorption(0.5,1,\"GeV\"))"
   ]
  },
  {
   "cell_type": "code",
   "execution_count": null,
   "metadata": {},
   "outputs": [],
   "source": []
  }
 ],
 "metadata": {
  "kernelspec": {
   "display_name": "Python 3",
   "language": "python",
   "name": "python3"
  },
  "language_info": {
   "codemirror_mode": {
    "name": "ipython",
    "version": 3
   },
   "file_extension": ".py",
   "mimetype": "text/x-python",
   "name": "python",
   "nbconvert_exporter": "python",
   "pygments_lexer": "ipython3",
   "version": "3.6.7"
  }
 },
 "nbformat": 4,
 "nbformat_minor": 2
}
